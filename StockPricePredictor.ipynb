{
  "nbformat": 4,
  "nbformat_minor": 0,
  "metadata": {
    "colab": {
      "name": "StockEstimator.ipynb",
      "provenance": []
    },
    "kernelspec": {
      "name": "python3",
      "display_name": "Python 3"
    },
    "language_info": {
      "name": "python"
    }
  },
  "cells": [
    {
      "cell_type": "code",
      "metadata": {
        "id": "zZX8Be5rioVJ"
      },
      "source": [
        "import numpy as np\n",
        "import matplotlib.pyplot as plt\n",
        "import pandas as pd\n",
        "import datetime\n",
        "from google.colab import drive\n",
        "from sklearn.preprocessing import MinMaxScaler\n",
        "from keras.models import Sequential\n",
        "from keras.layers import Dense\n",
        "from keras.layers import LSTM\n",
        "from keras.layers import Dropout\n",
        "from keras.layers import TimeDistributed\n",
        "import tensorflow as tf\n",
        "from matplotlib.pyplot import figure"
      ],
      "execution_count": 62,
      "outputs": []
    },
    {
      "cell_type": "code",
      "metadata": {
        "colab": {
          "base_uri": "https://localhost:8080/"
        },
        "id": "h3fmpl7ojYoL",
        "outputId": "b0a674b5-e76c-4f03-a2c7-8ef84b6180fb"
      },
      "source": [
        "drive.mount('/content/drive', force_remount=True)\n",
        "datadir = \"/content/drive/MyDrive/archive/Amazon.csv\"\n",
        "dataset = pd.read_csv(datadir, index_col = \"Date\");"
      ],
      "execution_count": 2,
      "outputs": [
        {
          "output_type": "stream",
          "name": "stdout",
          "text": [
            "Mounted at /content/drive\n"
          ]
        }
      ]
    },
    {
      "cell_type": "code",
      "metadata": {
        "colab": {
          "base_uri": "https://localhost:8080/",
          "height": 450
        },
        "id": "3NKvD8mWmBPc",
        "outputId": "42ca43f9-30d9-4afb-e178-30c06489f9c3"
      },
      "source": [
        "dataset"
      ],
      "execution_count": 16,
      "outputs": [
        {
          "output_type": "execute_result",
          "data": {
            "text/html": [
              "<div>\n",
              "<style scoped>\n",
              "    .dataframe tbody tr th:only-of-type {\n",
              "        vertical-align: middle;\n",
              "    }\n",
              "\n",
              "    .dataframe tbody tr th {\n",
              "        vertical-align: top;\n",
              "    }\n",
              "\n",
              "    .dataframe thead th {\n",
              "        text-align: right;\n",
              "    }\n",
              "</style>\n",
              "<table border=\"1\" class=\"dataframe\">\n",
              "  <thead>\n",
              "    <tr style=\"text-align: right;\">\n",
              "      <th></th>\n",
              "      <th>Open</th>\n",
              "      <th>High</th>\n",
              "      <th>Low</th>\n",
              "      <th>Close</th>\n",
              "      <th>Adj Close</th>\n",
              "      <th>Volume</th>\n",
              "    </tr>\n",
              "    <tr>\n",
              "      <th>Date</th>\n",
              "      <th></th>\n",
              "      <th></th>\n",
              "      <th></th>\n",
              "      <th></th>\n",
              "      <th></th>\n",
              "      <th></th>\n",
              "    </tr>\n",
              "  </thead>\n",
              "  <tbody>\n",
              "    <tr>\n",
              "      <th>1997-05-15</th>\n",
              "      <td>2.437500</td>\n",
              "      <td>2.500000</td>\n",
              "      <td>1.927083</td>\n",
              "      <td>1.958333</td>\n",
              "      <td>1.958333</td>\n",
              "      <td>72156000</td>\n",
              "    </tr>\n",
              "    <tr>\n",
              "      <th>1997-05-16</th>\n",
              "      <td>1.968750</td>\n",
              "      <td>1.979167</td>\n",
              "      <td>1.708333</td>\n",
              "      <td>1.729167</td>\n",
              "      <td>1.729167</td>\n",
              "      <td>14700000</td>\n",
              "    </tr>\n",
              "    <tr>\n",
              "      <th>1997-05-19</th>\n",
              "      <td>1.760417</td>\n",
              "      <td>1.770833</td>\n",
              "      <td>1.625000</td>\n",
              "      <td>1.708333</td>\n",
              "      <td>1.708333</td>\n",
              "      <td>6106800</td>\n",
              "    </tr>\n",
              "    <tr>\n",
              "      <th>1997-05-20</th>\n",
              "      <td>1.729167</td>\n",
              "      <td>1.750000</td>\n",
              "      <td>1.635417</td>\n",
              "      <td>1.635417</td>\n",
              "      <td>1.635417</td>\n",
              "      <td>5467200</td>\n",
              "    </tr>\n",
              "    <tr>\n",
              "      <th>1997-05-21</th>\n",
              "      <td>1.635417</td>\n",
              "      <td>1.645833</td>\n",
              "      <td>1.375000</td>\n",
              "      <td>1.427083</td>\n",
              "      <td>1.427083</td>\n",
              "      <td>18853200</td>\n",
              "    </tr>\n",
              "    <tr>\n",
              "      <th>...</th>\n",
              "      <td>...</td>\n",
              "      <td>...</td>\n",
              "      <td>...</td>\n",
              "      <td>...</td>\n",
              "      <td>...</td>\n",
              "      <td>...</td>\n",
              "    </tr>\n",
              "    <tr>\n",
              "      <th>2020-08-10</th>\n",
              "      <td>3170.310059</td>\n",
              "      <td>3172.510010</td>\n",
              "      <td>3101.520020</td>\n",
              "      <td>3148.159912</td>\n",
              "      <td>3148.159912</td>\n",
              "      <td>3167300</td>\n",
              "    </tr>\n",
              "    <tr>\n",
              "      <th>2020-08-11</th>\n",
              "      <td>3113.199951</td>\n",
              "      <td>3159.219971</td>\n",
              "      <td>3073.000000</td>\n",
              "      <td>3080.669922</td>\n",
              "      <td>3080.669922</td>\n",
              "      <td>3718100</td>\n",
              "    </tr>\n",
              "    <tr>\n",
              "      <th>2020-08-12</th>\n",
              "      <td>3108.000000</td>\n",
              "      <td>3174.389893</td>\n",
              "      <td>3101.419922</td>\n",
              "      <td>3162.239990</td>\n",
              "      <td>3162.239990</td>\n",
              "      <td>3527200</td>\n",
              "    </tr>\n",
              "    <tr>\n",
              "      <th>2020-08-13</th>\n",
              "      <td>3182.989990</td>\n",
              "      <td>3217.520020</td>\n",
              "      <td>3155.000000</td>\n",
              "      <td>3161.020020</td>\n",
              "      <td>3161.020020</td>\n",
              "      <td>3149000</td>\n",
              "    </tr>\n",
              "    <tr>\n",
              "      <th>2020-08-14</th>\n",
              "      <td>3178.179932</td>\n",
              "      <td>3178.239990</td>\n",
              "      <td>3120.000000</td>\n",
              "      <td>3148.020020</td>\n",
              "      <td>3148.020020</td>\n",
              "      <td>2749200</td>\n",
              "    </tr>\n",
              "  </tbody>\n",
              "</table>\n",
              "<p>5852 rows × 6 columns</p>\n",
              "</div>"
            ],
            "text/plain": [
              "                   Open         High  ...    Adj Close    Volume\n",
              "Date                                  ...                       \n",
              "1997-05-15     2.437500     2.500000  ...     1.958333  72156000\n",
              "1997-05-16     1.968750     1.979167  ...     1.729167  14700000\n",
              "1997-05-19     1.760417     1.770833  ...     1.708333   6106800\n",
              "1997-05-20     1.729167     1.750000  ...     1.635417   5467200\n",
              "1997-05-21     1.635417     1.645833  ...     1.427083  18853200\n",
              "...                 ...          ...  ...          ...       ...\n",
              "2020-08-10  3170.310059  3172.510010  ...  3148.159912   3167300\n",
              "2020-08-11  3113.199951  3159.219971  ...  3080.669922   3718100\n",
              "2020-08-12  3108.000000  3174.389893  ...  3162.239990   3527200\n",
              "2020-08-13  3182.989990  3217.520020  ...  3161.020020   3149000\n",
              "2020-08-14  3178.179932  3178.239990  ...  3148.020020   2749200\n",
              "\n",
              "[5852 rows x 6 columns]"
            ]
          },
          "metadata": {},
          "execution_count": 16
        }
      ]
    },
    {
      "cell_type": "code",
      "metadata": {
        "colab": {
          "base_uri": "https://localhost:8080/"
        },
        "id": "6QHxnax6f-xp",
        "outputId": "bbcf1a0f-4471-4411-b0c3-f7d459380e68"
      },
      "source": [
        "training_set = pd.DataFrame(dataset[\"High\"][0: int(len(dataset) * 0.8)])\n",
        "scaler = MinMaxScaler(feature_range=(0,1))\n",
        "scaled_training_set = scaler.fit_transform(training_set)\n",
        "scaled_training_set.shape"
      ],
      "execution_count": 20,
      "outputs": [
        {
          "output_type": "execute_result",
          "data": {
            "text/plain": [
              "(4681, 1)"
            ]
          },
          "metadata": {},
          "execution_count": 20
        }
      ]
    },
    {
      "cell_type": "code",
      "metadata": {
        "colab": {
          "base_uri": "https://localhost:8080/"
        },
        "id": "mNwCaa7dg7ht",
        "outputId": "e7b4c4ee-0ce2-4f7b-f191-e5322a3a61cb"
      },
      "source": [
        "x_train = []\n",
        "y_train = []\n",
        "step = 70\n",
        "future = 7\n",
        "\n",
        "for i in range(step, training_set.shape[0]):\n",
        "  if i+future <= training_set.shape[0]:\n",
        "    x_train.append(scaled_training_set[i-step:i, 0])\n",
        "    y_train.append(scaled_training_set[i:i+future, 0])\n",
        "x_train, y_train = np.array(x_train), np.array(y_train)\n",
        "x_train = np.reshape(x_train, (x_train.shape[0], x_train.shape[1], 1)) \n",
        "y_train.shape "
      ],
      "execution_count": 44,
      "outputs": [
        {
          "output_type": "execute_result",
          "data": {
            "text/plain": [
              "(4605, 7)"
            ]
          },
          "metadata": {},
          "execution_count": 44
        }
      ]
    },
    {
      "cell_type": "code",
      "metadata": {
        "colab": {
          "base_uri": "https://localhost:8080/"
        },
        "id": "0h4phRES87Ub",
        "outputId": "9be3386a-342f-4aa7-960e-7af38b20a65e"
      },
      "source": [
        "#######################SINGLE OUTPUT###########################\n",
        "x_train = []\n",
        "y_train = []\n",
        "step = 70\n",
        "\n",
        "for i in range(step, training_set.shape[0]):\n",
        "    x_train.append(scaled_training_set[i-step:i, 0])\n",
        "    y_train.append(scaled_training_set[i, 0])\n",
        "x_train, y_train = np.array(x_train), np.array(y_train)\n",
        "x_train = np.reshape(x_train, (x_train.shape[0], x_train.shape[1], 1))\n",
        "y_train = np.reshape(y_train, (y_train.shape[0], 1))\n",
        "y_train.shape"
      ],
      "execution_count": 77,
      "outputs": [
        {
          "output_type": "execute_result",
          "data": {
            "text/plain": [
              "(4611, 1)"
            ]
          },
          "metadata": {},
          "execution_count": 77
        }
      ]
    },
    {
      "cell_type": "code",
      "metadata": {
        "id": "F1_nBrq7mQ5l"
      },
      "source": [
        "model = Sequential()\n",
        "\n",
        "#1st layer\n",
        "model.add(LSTM(units = 50, activation = \"relu\", return_sequences = True, input_shape = (x_train.shape[1], x_train.shape[2])) )\n",
        "model.add(Dropout(0.2))\n",
        "#2nd layer\n",
        "model.add(LSTM(units = 50, activation = \"relu\", return_sequences = True))\n",
        "model.add(Dropout(0.2))\n",
        "#3rd layer\n",
        "model.add(LSTM(units = 50, activation = \"relu\", return_sequences = True))\n",
        "model.add(Dropout(0.2))\n",
        "#4th layer\n",
        "model.add(LSTM(units = 50, activation = \"relu\"))\n",
        "model.add(Dropout(0.2))\n",
        "\n",
        "model.add(Dense(units = y_train.shape[1]))"
      ],
      "execution_count": 78,
      "outputs": []
    },
    {
      "cell_type": "code",
      "metadata": {
        "colab": {
          "base_uri": "https://localhost:8080/"
        },
        "id": "XAYmvfON6GQ2",
        "outputId": "9fd870de-cd31-4565-b46d-54a399c115e5"
      },
      "source": [
        "model.compile(optimizer=\"adam\", loss=\"mean_squared_error\")\n",
        "model.fit(x_train, y_train, epochs=100)"
      ],
      "execution_count": 84,
      "outputs": [
        {
          "output_type": "stream",
          "name": "stdout",
          "text": [
            "Epoch 1/100\n",
            "145/145 [==============================] - 29s 159ms/step - loss: 0.0130\n",
            "Epoch 2/100\n",
            "145/145 [==============================] - 23s 160ms/step - loss: 0.0017\n",
            "Epoch 3/100\n",
            "145/145 [==============================] - 23s 161ms/step - loss: 0.0015\n",
            "Epoch 4/100\n",
            "145/145 [==============================] - 23s 159ms/step - loss: 0.0014\n",
            "Epoch 5/100\n",
            "145/145 [==============================] - 23s 160ms/step - loss: 0.0014\n",
            "Epoch 6/100\n",
            "145/145 [==============================] - 23s 158ms/step - loss: 0.0013\n",
            "Epoch 7/100\n",
            "145/145 [==============================] - 23s 158ms/step - loss: 0.0013\n",
            "Epoch 8/100\n",
            "145/145 [==============================] - 23s 161ms/step - loss: 0.0012\n",
            "Epoch 9/100\n",
            "145/145 [==============================] - 24s 169ms/step - loss: 0.0012\n",
            "Epoch 10/100\n",
            "145/145 [==============================] - 23s 161ms/step - loss: 0.0011\n",
            "Epoch 11/100\n",
            "145/145 [==============================] - 23s 158ms/step - loss: 0.0012\n",
            "Epoch 12/100\n",
            "145/145 [==============================] - 23s 158ms/step - loss: 0.0011\n",
            "Epoch 13/100\n",
            "145/145 [==============================] - 23s 157ms/step - loss: 0.0012\n",
            "Epoch 14/100\n",
            "145/145 [==============================] - 23s 157ms/step - loss: 9.0156e-04\n",
            "Epoch 15/100\n",
            "145/145 [==============================] - 23s 158ms/step - loss: 9.0984e-04\n",
            "Epoch 16/100\n",
            "145/145 [==============================] - 23s 158ms/step - loss: 0.0011\n",
            "Epoch 17/100\n",
            "145/145 [==============================] - 23s 160ms/step - loss: 9.2660e-04\n",
            "Epoch 18/100\n",
            "145/145 [==============================] - 23s 157ms/step - loss: 9.2674e-04\n",
            "Epoch 19/100\n",
            "145/145 [==============================] - 23s 157ms/step - loss: 0.0010\n",
            "Epoch 20/100\n",
            "145/145 [==============================] - 23s 158ms/step - loss: 9.6182e-04\n",
            "Epoch 21/100\n",
            "145/145 [==============================] - 23s 158ms/step - loss: 8.6107e-04\n",
            "Epoch 22/100\n",
            "145/145 [==============================] - 23s 158ms/step - loss: 9.2647e-04\n",
            "Epoch 23/100\n",
            "145/145 [==============================] - 23s 158ms/step - loss: 8.4106e-04\n",
            "Epoch 24/100\n",
            "145/145 [==============================] - 23s 158ms/step - loss: 9.2139e-04\n",
            "Epoch 25/100\n",
            "145/145 [==============================] - 23s 157ms/step - loss: 8.4983e-04\n",
            "Epoch 26/100\n",
            "145/145 [==============================] - 23s 156ms/step - loss: 9.2209e-04\n",
            "Epoch 27/100\n",
            "145/145 [==============================] - 23s 156ms/step - loss: 8.5907e-04\n",
            "Epoch 28/100\n",
            "145/145 [==============================] - 23s 157ms/step - loss: 8.7749e-04\n",
            "Epoch 29/100\n",
            "145/145 [==============================] - 23s 158ms/step - loss: 9.0756e-04\n",
            "Epoch 30/100\n",
            "145/145 [==============================] - 22s 153ms/step - loss: 9.9904e-04\n",
            "Epoch 31/100\n",
            "145/145 [==============================] - 22s 152ms/step - loss: 8.4230e-04\n",
            "Epoch 32/100\n",
            "145/145 [==============================] - 23s 156ms/step - loss: 8.9904e-04\n",
            "Epoch 33/100\n",
            "145/145 [==============================] - 23s 156ms/step - loss: 8.5968e-04\n",
            "Epoch 34/100\n",
            "145/145 [==============================] - 22s 153ms/step - loss: 9.1345e-04\n",
            "Epoch 35/100\n",
            "145/145 [==============================] - 22s 150ms/step - loss: 0.0010\n",
            "Epoch 36/100\n",
            "145/145 [==============================] - 22s 150ms/step - loss: 9.7574e-04\n",
            "Epoch 37/100\n",
            "145/145 [==============================] - 22s 150ms/step - loss: 7.4984e-04\n",
            "Epoch 38/100\n",
            "145/145 [==============================] - 22s 149ms/step - loss: 7.4279e-04\n",
            "Epoch 39/100\n",
            "145/145 [==============================] - 22s 150ms/step - loss: 8.5260e-04\n",
            "Epoch 40/100\n",
            "145/145 [==============================] - 22s 151ms/step - loss: 7.0406e-04\n",
            "Epoch 41/100\n",
            "145/145 [==============================] - 22s 150ms/step - loss: 7.7180e-04\n",
            "Epoch 42/100\n",
            "145/145 [==============================] - 22s 150ms/step - loss: 7.2669e-04\n",
            "Epoch 43/100\n",
            "145/145 [==============================] - 22s 149ms/step - loss: 7.9360e-04\n",
            "Epoch 44/100\n",
            "145/145 [==============================] - 22s 150ms/step - loss: 7.3831e-04\n",
            "Epoch 45/100\n",
            "145/145 [==============================] - 22s 151ms/step - loss: 8.0839e-04\n",
            "Epoch 46/100\n",
            "145/145 [==============================] - 22s 149ms/step - loss: 7.6936e-04\n",
            "Epoch 47/100\n",
            "145/145 [==============================] - 22s 151ms/step - loss: 8.1342e-04\n",
            "Epoch 48/100\n",
            "145/145 [==============================] - 22s 150ms/step - loss: 7.5247e-04\n",
            "Epoch 49/100\n",
            "145/145 [==============================] - 22s 149ms/step - loss: 8.1859e-04\n",
            "Epoch 50/100\n",
            "145/145 [==============================] - 22s 151ms/step - loss: 7.9595e-04\n",
            "Epoch 51/100\n",
            "145/145 [==============================] - 22s 152ms/step - loss: 7.6434e-04\n",
            "Epoch 52/100\n",
            "145/145 [==============================] - 22s 151ms/step - loss: 0.0010\n",
            "Epoch 53/100\n",
            "145/145 [==============================] - 22s 149ms/step - loss: 7.9559e-04\n",
            "Epoch 54/100\n",
            "145/145 [==============================] - 22s 149ms/step - loss: 7.1822e-04\n",
            "Epoch 55/100\n",
            "145/145 [==============================] - 22s 149ms/step - loss: 7.6967e-04\n",
            "Epoch 56/100\n",
            "145/145 [==============================] - 22s 148ms/step - loss: 8.8723e-04\n",
            "Epoch 57/100\n",
            "145/145 [==============================] - 22s 150ms/step - loss: 7.3203e-04\n",
            "Epoch 58/100\n",
            "145/145 [==============================] - 22s 150ms/step - loss: 6.7742e-04\n",
            "Epoch 59/100\n",
            "145/145 [==============================] - 22s 150ms/step - loss: 8.1031e-04\n",
            "Epoch 60/100\n",
            "145/145 [==============================] - 22s 150ms/step - loss: 8.0047e-04\n",
            "Epoch 61/100\n",
            "145/145 [==============================] - 22s 149ms/step - loss: 7.7664e-04\n",
            "Epoch 62/100\n",
            "145/145 [==============================] - 22s 149ms/step - loss: 6.5750e-04\n",
            "Epoch 63/100\n",
            "145/145 [==============================] - 22s 149ms/step - loss: 6.6460e-04\n",
            "Epoch 64/100\n",
            "145/145 [==============================] - 22s 149ms/step - loss: 7.7338e-04\n",
            "Epoch 65/100\n",
            "145/145 [==============================] - 22s 150ms/step - loss: 8.4057e-04\n",
            "Epoch 66/100\n",
            "145/145 [==============================] - 21s 148ms/step - loss: 7.7700e-04\n",
            "Epoch 67/100\n",
            "145/145 [==============================] - 22s 149ms/step - loss: 6.9257e-04\n",
            "Epoch 68/100\n",
            "145/145 [==============================] - 22s 150ms/step - loss: 7.2686e-04\n",
            "Epoch 69/100\n",
            "145/145 [==============================] - 22s 150ms/step - loss: 6.8997e-04\n",
            "Epoch 70/100\n",
            "145/145 [==============================] - 22s 152ms/step - loss: 7.2937e-04\n",
            "Epoch 71/100\n",
            "145/145 [==============================] - 22s 151ms/step - loss: 7.1826e-04\n",
            "Epoch 72/100\n",
            "145/145 [==============================] - 22s 151ms/step - loss: 6.7755e-04\n",
            "Epoch 73/100\n",
            "145/145 [==============================] - 22s 152ms/step - loss: 7.6307e-04\n",
            "Epoch 74/100\n",
            "145/145 [==============================] - 22s 151ms/step - loss: 7.9411e-04\n",
            "Epoch 75/100\n",
            "145/145 [==============================] - 22s 150ms/step - loss: 7.2215e-04\n",
            "Epoch 76/100\n",
            "145/145 [==============================] - 22s 150ms/step - loss: 6.7045e-04\n",
            "Epoch 77/100\n",
            "145/145 [==============================] - 22s 150ms/step - loss: 6.9188e-04\n",
            "Epoch 78/100\n",
            "145/145 [==============================] - 22s 150ms/step - loss: 7.1849e-04\n",
            "Epoch 79/100\n",
            "145/145 [==============================] - 22s 151ms/step - loss: 6.8647e-04\n",
            "Epoch 80/100\n",
            "145/145 [==============================] - 22s 150ms/step - loss: 7.9449e-04\n",
            "Epoch 81/100\n",
            "145/145 [==============================] - 22s 151ms/step - loss: 7.1548e-04\n",
            "Epoch 82/100\n",
            "145/145 [==============================] - 22s 150ms/step - loss: 6.6112e-04\n",
            "Epoch 83/100\n",
            "145/145 [==============================] - 22s 149ms/step - loss: 7.1167e-04\n",
            "Epoch 84/100\n",
            "145/145 [==============================] - 22s 150ms/step - loss: 7.5974e-04\n",
            "Epoch 85/100\n",
            "145/145 [==============================] - 22s 150ms/step - loss: 7.1093e-04\n",
            "Epoch 86/100\n",
            "145/145 [==============================] - 22s 151ms/step - loss: 7.7989e-04\n",
            "Epoch 87/100\n",
            "145/145 [==============================] - 22s 151ms/step - loss: 6.8653e-04\n",
            "Epoch 88/100\n",
            "145/145 [==============================] - 22s 150ms/step - loss: 7.2674e-04\n",
            "Epoch 89/100\n",
            "145/145 [==============================] - 22s 149ms/step - loss: 6.6448e-04\n",
            "Epoch 90/100\n",
            "145/145 [==============================] - 22s 151ms/step - loss: 6.9712e-04\n",
            "Epoch 91/100\n",
            "145/145 [==============================] - 22s 149ms/step - loss: 6.4190e-04\n",
            "Epoch 92/100\n",
            "145/145 [==============================] - 22s 149ms/step - loss: 7.2271e-04\n",
            "Epoch 93/100\n",
            "145/145 [==============================] - 22s 149ms/step - loss: 6.4396e-04\n",
            "Epoch 94/100\n",
            "145/145 [==============================] - 22s 150ms/step - loss: 6.9859e-04\n",
            "Epoch 95/100\n",
            "145/145 [==============================] - 22s 151ms/step - loss: 6.9745e-04\n",
            "Epoch 96/100\n",
            "145/145 [==============================] - 22s 150ms/step - loss: 6.7680e-04\n",
            "Epoch 97/100\n",
            "145/145 [==============================] - 22s 152ms/step - loss: 7.2756e-04\n",
            "Epoch 98/100\n",
            "145/145 [==============================] - 22s 151ms/step - loss: 7.1518e-04\n",
            "Epoch 99/100\n",
            "145/145 [==============================] - 22s 149ms/step - loss: 7.4517e-04\n",
            "Epoch 100/100\n",
            "145/145 [==============================] - 22s 150ms/step - loss: 6.2846e-04\n"
          ]
        },
        {
          "output_type": "execute_result",
          "data": {
            "text/plain": [
              "<keras.callbacks.History at 0x7f3a2955da90>"
            ]
          },
          "metadata": {},
          "execution_count": 84
        }
      ]
    },
    {
      "cell_type": "code",
      "metadata": {
        "colab": {
          "base_uri": "https://localhost:8080/"
        },
        "id": "uwT-VYMbh4Pb",
        "outputId": "b2c454f2-89b8-4bca-8fb7-fbc1e8adeae1"
      },
      "source": [
        "!mkdir -p saved_model\n",
        "model.save('saved_model/amazon_model2') "
      ],
      "execution_count": 86,
      "outputs": [
        {
          "output_type": "stream",
          "name": "stdout",
          "text": [
            "INFO:tensorflow:Assets written to: saved_model/amazon_model2/assets\n"
          ]
        },
        {
          "output_type": "stream",
          "name": "stderr",
          "text": [
            "INFO:tensorflow:Assets written to: saved_model/amazon_model2/assets\n",
            "WARNING:absl:<keras.layers.recurrent.LSTMCell object at 0x7f3a3d263c50> has the same name 'LSTMCell' as a built-in Keras object. Consider renaming <class 'keras.layers.recurrent.LSTMCell'> to avoid naming conflicts when loading with `tf.keras.models.load_model`. If renaming is not possible, pass the object in the `custom_objects` parameter of the load function.\n",
            "WARNING:absl:<keras.layers.recurrent.LSTMCell object at 0x7f3a3d294810> has the same name 'LSTMCell' as a built-in Keras object. Consider renaming <class 'keras.layers.recurrent.LSTMCell'> to avoid naming conflicts when loading with `tf.keras.models.load_model`. If renaming is not possible, pass the object in the `custom_objects` parameter of the load function.\n",
            "WARNING:absl:<keras.layers.recurrent.LSTMCell object at 0x7f3a330cc650> has the same name 'LSTMCell' as a built-in Keras object. Consider renaming <class 'keras.layers.recurrent.LSTMCell'> to avoid naming conflicts when loading with `tf.keras.models.load_model`. If renaming is not possible, pass the object in the `custom_objects` parameter of the load function.\n",
            "WARNING:absl:<keras.layers.recurrent.LSTMCell object at 0x7f3a3311d390> has the same name 'LSTMCell' as a built-in Keras object. Consider renaming <class 'keras.layers.recurrent.LSTMCell'> to avoid naming conflicts when loading with `tf.keras.models.load_model`. If renaming is not possible, pass the object in the `custom_objects` parameter of the load function.\n"
          ]
        }
      ]
    },
    {
      "cell_type": "markdown",
      "metadata": {
        "id": "lgCFY9pnPnim"
      },
      "source": [
        "My saved models: \n",
        "\n",
        "amazon_model for 70 input 7 output\n",
        "\n",
        "amazon_model2 for 70 input 1 output"
      ]
    },
    {
      "cell_type": "code",
      "metadata": {
        "colab": {
          "base_uri": "https://localhost:8080/"
        },
        "id": "msZXInhjf3SZ",
        "outputId": "65bcc904-7b03-425f-c236-bd100bdbd822"
      },
      "source": [
        "!mkdir -p saved_model\n",
        "!ls saved_model\n",
        "new_model = tf.keras.models.load_model('saved_model/amazon_model')"
      ],
      "execution_count": 152,
      "outputs": [
        {
          "output_type": "stream",
          "name": "stdout",
          "text": [
            "amazon_model  amazon_model2\n"
          ]
        }
      ]
    },
    {
      "cell_type": "code",
      "metadata": {
        "id": "jOMEabKh_36z"
      },
      "source": [
        "test_set = pd.DataFrame(dataset[\"High\"][int(len(dataset) * 0.8):int(len(dataset))])\n",
        "past_days = training_set.tail(step)\n",
        "test_set = past_days.append(test_set)\n",
        "scaled_test_set = scaler.fit_transform(test_set)"
      ],
      "execution_count": 153,
      "outputs": []
    },
    {
      "cell_type": "code",
      "metadata": {
        "id": "0EB7dUfDCrqc"
      },
      "source": [
        "x_test = []\n",
        "y_test = []\n",
        "\n",
        "for i in range(step, test_set.shape[0], 7):\n",
        "  if i+future <= test_set.shape[0]:\n",
        "    x_test.append(scaled_test_set[i-step:i, 0])\n",
        "    y_test.append(scaled_test_set[i:i+future,0])\n",
        "x_test, y_test = np.array(x_test), np.array(y_test)\n",
        "x_test = np.reshape(x_test, (x_test.shape[0], x_test.shape[1], 1)) \n",
        "x_test.shape\n",
        "y_test = np.reshape(y_test, (y_test.shape[0]*y_test.shape[1], 1)) "
      ],
      "execution_count": 154,
      "outputs": []
    },
    {
      "cell_type": "code",
      "metadata": {
        "id": "5VOCVMElHqFx"
      },
      "source": [
        "############FOR 1 OUTPUT##############\n",
        "x_test = []\n",
        "y_test = []\n",
        "\n",
        "for i in range(step, test_set.shape[0]):\n",
        "  x_test.append(scaled_test_set[i-step:i, 0])\n",
        "  y_test.append(scaled_test_set[i,0])\n",
        "x_test, y_test = np.array(x_test), np.array(y_test)\n",
        "x_test = np.reshape(x_test, (x_test.shape[0], x_test.shape[1], 1)) \n",
        "x_test.shape\n",
        "y_test = np.reshape(y_test, (y_test.shape[0], 1)) "
      ],
      "execution_count": 147,
      "outputs": []
    },
    {
      "cell_type": "code",
      "metadata": {
        "id": "Cz_y3xXLHEwu"
      },
      "source": [
        "##ESTIMATING FROM PREESTIMATED 7\n",
        "test = []\n",
        "test.append(scaled_test_set[0:7, 0])\n",
        "test = np.array(test)\n",
        "predicted = new_model.predict(test)\n",
        "for j in range(0, scaled_test_set.size - 1, 7):\n",
        "  for i in range(0, 7):\n",
        "    test = np.delete(test, 0)\n",
        "    test = np.append(test, predicted[i+j])\n",
        "    test = np.reshape(test, (1, test.shape[0], 1))\n",
        "    predicted = np.append(predicted, new_model.predict(test))\n",
        "  test = []\n",
        "  test.append(scaled_test_set[j:j+7, 0])  \n",
        "\n",
        "predicted = np.reshape(predicted, (predicted.shape[0], 1)) \n",
        "predicted = scaler.inverse_transform(predicted)\n",
        "predicted = pd.DataFrame(predicted)\n",
        "y_test = scaler.inverse_transform(y_test)\n",
        "y_test = pd.DataFrame(y_test)"
      ],
      "execution_count": 148,
      "outputs": []
    },
    {
      "cell_type": "code",
      "metadata": {
        "id": "KQg8pwvbEIty"
      },
      "source": [
        "predicted = new_model.predict(x_test) \n",
        "predicted = np.reshape(predicted, (predicted.shape[0]*predicted.shape[1], 1)) \n",
        "predicted = scaler.inverse_transform(predicted)\n",
        "predicted = pd.DataFrame(predicted)\n",
        "y_test = scaler.inverse_transform(y_test)\n",
        "y_test = pd.DataFrame(y_test)"
      ],
      "execution_count": 155,
      "outputs": []
    },
    {
      "cell_type": "code",
      "metadata": {
        "colab": {
          "base_uri": "https://localhost:8080/",
          "height": 413
        },
        "id": "YFHjo1BVE80W",
        "outputId": "4a094efc-9e89-436f-fd71-4b5614d2479c"
      },
      "source": [
        "figure(figsize=(8, 6), dpi=80)\n",
        "plt.plot(y_test, color=\"orange\", label = \"actual result\")\n",
        "plt.plot(predicted, color=\"green\", label = \"predicted result\")\n",
        "plt.legend()\n",
        "plt.show()"
      ],
      "execution_count": 145,
      "outputs": [
        {
          "output_type": "display_data",
          "data": {
            "image/png": "[encoded data removed]",
            "text/plain": [
              "<Figure size 640x480 with 1 Axes>"
            ]
          },
          "metadata": {
            "needs_background": "light"
          }
        }
      ]
    },
    {
      "cell_type": "markdown",
      "metadata": {
        "id": "_-VybX0wOey5"
      },
      "source": [
        "This figure is computed by getting 1 future output from 70 past inputs"
      ]
    },
    {
      "cell_type": "code",
      "metadata": {
        "colab": {
          "base_uri": "https://localhost:8080/",
          "height": 413
        },
        "id": "7n7dp9zKOs46",
        "outputId": "c1f4c168-852a-4ce1-88ce-655700a87fd5"
      },
      "source": [
        "figure(figsize=(8, 6), dpi=80)\n",
        "plt.plot(y_test, color=\"orange\", label = \"actual result\")\n",
        "plt.plot(predicted, color=\"green\", label = \"predicted result\")\n",
        "plt.legend()\n",
        "plt.show()"
      ],
      "execution_count": 151,
      "outputs": [
        {
          "output_type": "display_data",
          "data": {
            "image/png": "[encoded data removed]",
            "text/plain": [
              "<Figure size 640x480 with 1 Axes>"
            ]
          },
          "metadata": {
            "needs_background": "light"
          }
        }
      ]
    },
    {
      "cell_type": "markdown",
      "metadata": {
        "id": "HKxpoESCOuma"
      },
      "source": [
        "This figure is computed by getting 1 future output from 70 past inputs. \n",
        "\n",
        "Each 7 day is computed with using the estimated values. For ex. \n",
        "\n",
        "days 1-70 --> 71\n",
        "\n",
        "days 2-70 + previously estimated 71 --> 72"
      ]
    },
    {
      "cell_type": "code",
      "metadata": {
        "colab": {
          "base_uri": "https://localhost:8080/",
          "height": 413
        },
        "id": "gx18I0Z-Qc1M",
        "outputId": "5d2d58ff-7f9d-4e8a-f23f-b13922fa799e"
      },
      "source": [
        "figure(figsize=(8, 6), dpi=80)\n",
        "plt.plot(y_test, color=\"orange\", label = \"actual result\")\n",
        "plt.plot(predicted, color=\"green\", label = \"predicted result\")\n",
        "plt.legend()\n",
        "plt.show()"
      ],
      "execution_count": 156,
      "outputs": [
        {
          "output_type": "display_data",
          "data": {
            "image/png": "[encoded data removed]",
            "text/plain": [
              "<Figure size 640x480 with 1 Axes>"
            ]
          },
          "metadata": {
            "needs_background": "light"
          }
        }
      ]
    },
    {
      "cell_type": "markdown",
      "metadata": {
        "id": "7NXgz0gUQeng"
      },
      "source": [
        "This figure is computed by getting 7 future output from 70 past inputs."
      ]
    }
  ]
}